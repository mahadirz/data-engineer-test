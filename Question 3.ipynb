{
 "cells": [
  {
   "cell_type": "markdown",
   "metadata": {},
   "source": [
    "# Data Engineer Test (Part 2)"
   ]
  },
  {
   "cell_type": "code",
   "execution_count": 1,
   "metadata": {
    "collapsed": true
   },
   "outputs": [],
   "source": [
    "#importing all required libraries ahead of time :)\n",
    "#easy to spot any libraries not currently not installed in ur machine\n",
    "%run kaggle.py\n",
    "import matplotlib.pyplot as plt\n",
    "import seaborn as sns\n",
    "import pandas as pd\n",
    "import numpy as np\n",
    "from scipy.stats import iqr\n",
    "import requests\n",
    "import mpld3\n",
    "import json\n",
    "import datetime as dt\n",
    "from datetime import datetime\n",
    "from dateutil import parser\n",
    "import time\n",
    "import nltk\n",
    "from nltk.tokenize import RegexpTokenizer\n",
    "from nltk.corpus import stopwords\n",
    "import inflect\n",
    "%matplotlib inline\n",
    "mpld3.enable_notebook()\n",
    "pd.options.display.float_format = '{:,.2f}'.format"
   ]
  },
  {
   "cell_type": "markdown",
   "metadata": {},
   "source": [
    "## Question 3\n",
    "Jobposts Data Exploration and Analysis (code in python)<br><br>\n",
    "a) Reuse code from Q2 to download the following Kaggle dataset:\n",
    "Jobposts Data: https://www.kaggle.com/madhab/jobposts/<br><br>\n",
    "b) Extract the following fields from the jobpost column:\n",
    "1. Job Title\n",
    "2. Position Duration\n",
    "3. Position Location\n",
    "4. Job Description\n",
    "5. Job Responsibilities\n",
    "6. Required Qualifications\n",
    "7. Remuneration\n",
    "8. Application Deadline\n",
    "9. About Company<br>\n",
    "\n",
    "c) Identify the company with the most number of job ads in the past 2 years<br>\n",
    "d) Identify the month with the largest number of job ads over the years<br>\n",
    "e) Find median, mean, min and max values for each product<br>\n",
    "f) Clean text and generate new text from Job Responsibilities column: The new text<br>\n",
    "shall not contain any stop words, and the plural words shall be converted into<br>\n",
    "singular words.\n",
    "g) Store the results in a new Dataframe/SQL table<br>"
   ]
  },
  {
   "cell_type": "code",
   "execution_count": 2,
   "metadata": {
    "collapsed": true
   },
   "outputs": [],
   "source": [
    "#Kaggle credentials\n",
    "# $ cp cred.json.example cred.json\n",
    "# $ vim cred.json \n",
    "cred = json.load(open('cred.json'))\n",
    "\n",
    "#login first before download\n",
    "kaggle = Kaggle()\n",
    "kaggle.login(cred['UserName'],cred['Password'])\n",
    "local_file = \"job_posts.csv.zip\"\n",
    "dataset_url = \"https://www.kaggle.com/madhab/jobposts/downloads/data%20job%20posts.csv\"\n",
    "kaggle.download_dataset(dataset_url,local_file)"
   ]
  },
  {
   "cell_type": "code",
   "execution_count": 3,
   "metadata": {
    "collapsed": true
   },
   "outputs": [],
   "source": [
    "q3_df = pd.read_csv(local_file)"
   ]
  },
  {
   "cell_type": "code",
   "execution_count": 4,
   "metadata": {},
   "outputs": [
    {
     "name": "stdout",
     "output_type": "stream",
     "text": [
      "19001\n"
     ]
    },
    {
     "data": {
      "text/html": [
       "<div>\n",
       "<style>\n",
       "    .dataframe thead tr:only-child th {\n",
       "        text-align: right;\n",
       "    }\n",
       "\n",
       "    .dataframe thead th {\n",
       "        text-align: left;\n",
       "    }\n",
       "\n",
       "    .dataframe tbody tr th {\n",
       "        vertical-align: top;\n",
       "    }\n",
       "</style>\n",
       "<table border=\"1\" class=\"dataframe\">\n",
       "  <thead>\n",
       "    <tr style=\"text-align: right;\">\n",
       "      <th></th>\n",
       "      <th>jobpost</th>\n",
       "      <th>date</th>\n",
       "      <th>Title</th>\n",
       "      <th>Company</th>\n",
       "      <th>AnnouncementCode</th>\n",
       "      <th>Term</th>\n",
       "      <th>Eligibility</th>\n",
       "      <th>Audience</th>\n",
       "      <th>StartDate</th>\n",
       "      <th>Duration</th>\n",
       "      <th>...</th>\n",
       "      <th>Salary</th>\n",
       "      <th>ApplicationP</th>\n",
       "      <th>OpeningDate</th>\n",
       "      <th>Deadline</th>\n",
       "      <th>Notes</th>\n",
       "      <th>AboutC</th>\n",
       "      <th>Attach</th>\n",
       "      <th>Year</th>\n",
       "      <th>Month</th>\n",
       "      <th>IT</th>\n",
       "    </tr>\n",
       "  </thead>\n",
       "  <tbody>\n",
       "    <tr>\n",
       "      <th>0</th>\n",
       "      <td>AMERIA Investment Consulting Company\\r\\nJOB TI...</td>\n",
       "      <td>Jan 5, 2004</td>\n",
       "      <td>Chief Financial Officer</td>\n",
       "      <td>AMERIA Investment Consulting Company</td>\n",
       "      <td>NaN</td>\n",
       "      <td>NaN</td>\n",
       "      <td>NaN</td>\n",
       "      <td>NaN</td>\n",
       "      <td>NaN</td>\n",
       "      <td>NaN</td>\n",
       "      <td>...</td>\n",
       "      <td>NaN</td>\n",
       "      <td>To apply for this position, please submit a\\r\\...</td>\n",
       "      <td>NaN</td>\n",
       "      <td>26 January 2004</td>\n",
       "      <td>NaN</td>\n",
       "      <td>NaN</td>\n",
       "      <td>NaN</td>\n",
       "      <td>2004</td>\n",
       "      <td>1</td>\n",
       "      <td>False</td>\n",
       "    </tr>\n",
       "    <tr>\n",
       "      <th>1</th>\n",
       "      <td>International Research &amp; Exchanges Board (IREX...</td>\n",
       "      <td>Jan 7, 2004</td>\n",
       "      <td>Full-time Community Connections Intern (paid i...</td>\n",
       "      <td>International Research &amp; Exchanges Board (IREX)</td>\n",
       "      <td>NaN</td>\n",
       "      <td>NaN</td>\n",
       "      <td>NaN</td>\n",
       "      <td>NaN</td>\n",
       "      <td>NaN</td>\n",
       "      <td>3 months</td>\n",
       "      <td>...</td>\n",
       "      <td>NaN</td>\n",
       "      <td>Please submit a cover letter and resume to:\\r\\...</td>\n",
       "      <td>NaN</td>\n",
       "      <td>12 January 2004</td>\n",
       "      <td>NaN</td>\n",
       "      <td>The International Research &amp; Exchanges Board (...</td>\n",
       "      <td>NaN</td>\n",
       "      <td>2004</td>\n",
       "      <td>1</td>\n",
       "      <td>False</td>\n",
       "    </tr>\n",
       "  </tbody>\n",
       "</table>\n",
       "<p>2 rows × 24 columns</p>\n",
       "</div>"
      ],
      "text/plain": [
       "                                             jobpost         date  \\\n",
       "0  AMERIA Investment Consulting Company\\r\\nJOB TI...  Jan 5, 2004   \n",
       "1  International Research & Exchanges Board (IREX...  Jan 7, 2004   \n",
       "\n",
       "                                               Title  \\\n",
       "0                            Chief Financial Officer   \n",
       "1  Full-time Community Connections Intern (paid i...   \n",
       "\n",
       "                                           Company AnnouncementCode Term  \\\n",
       "0             AMERIA Investment Consulting Company              NaN  NaN   \n",
       "1  International Research & Exchanges Board (IREX)              NaN  NaN   \n",
       "\n",
       "  Eligibility Audience StartDate  Duration  ...   Salary  \\\n",
       "0         NaN      NaN       NaN       NaN  ...      NaN   \n",
       "1         NaN      NaN       NaN  3 months  ...      NaN   \n",
       "\n",
       "                                        ApplicationP OpeningDate  \\\n",
       "0  To apply for this position, please submit a\\r\\...         NaN   \n",
       "1  Please submit a cover letter and resume to:\\r\\...         NaN   \n",
       "\n",
       "          Deadline Notes                                             AboutC  \\\n",
       "0  26 January 2004   NaN                                                NaN   \n",
       "1  12 January 2004   NaN  The International Research & Exchanges Board (...   \n",
       "\n",
       "  Attach  Year Month     IT  \n",
       "0    NaN  2004     1  False  \n",
       "1    NaN  2004     1  False  \n",
       "\n",
       "[2 rows x 24 columns]"
      ]
     },
     "execution_count": 4,
     "metadata": {},
     "output_type": "execute_result"
    }
   ],
   "source": [
    "#let's take a glimpe to first 2 rows\n",
    "print(q3_df.count()['jobpost'])\n",
    "q3_df.head(2)"
   ]
  },
  {
   "cell_type": "code",
   "execution_count": 5,
   "metadata": {},
   "outputs": [
    {
     "name": "stdout",
     "output_type": "stream",
     "text": [
      "AMERIA Investment Consulting Company\r\n",
      "JOB TITLE:  Chief Financial Officer\r\n",
      "POSITION LOCATION: Yereva\n"
     ]
    }
   ],
   "source": [
    "# nice, Regex should be enough to extract \n",
    "# hopefully all rows are consistent, :)\n",
    "# turns out not all, but seems manageable\n",
    "print(q3_df['jobpost'][0][0:100])"
   ]
  },
  {
   "cell_type": "code",
   "execution_count": 6,
   "metadata": {
    "collapsed": true
   },
   "outputs": [],
   "source": [
    "def extract_job(text):\n",
    "    #regex = r\"(?:(?:JOB )?TITLE:([\\s\\S]+?))?(?:(?:POSITION)DURATION:([\\s\\S]+?))?(?:(?:POSITION)?LOCATION:([\\s\\S]+?))?(?:(?:JOB)?DESCRIPTION:([\\s\\S]+?))?(?:(?:JOB)?RESPONSIBILITIES:)\"\n",
    "    #The above code will run faster but have expensive maintainance cost\n",
    "    # It also cannot handle if the job posting have different position location for the keywords\n",
    "    # please bear this slowness for the sake of maintainability :)\n",
    "    job = {\n",
    "    'title' :'',\n",
    "    'duration' : '',\n",
    "    'location' : '',\n",
    "    'description' : '',\n",
    "    'responsibility' : '',\n",
    "    'qualification' : '',\n",
    "    'remuneration' : '',\n",
    "    'deadline' : '',\n",
    "    'about' : ''\n",
    "    }\n",
    "    common_reg = r':([\\s\\S]+?)(?:([A-Z\\s/]+:)|---)'\n",
    "    match = re.search(r'TITLE'+common_reg, text)\n",
    "    if match:\n",
    "        job['title'] = match.group(1).strip()\n",
    "    match = re.search(r'DURATION'+common_reg, text)\n",
    "    if match:\n",
    "        job['duration'] = match.group(1).strip()\n",
    "    match = re.search(r'LOCATION'+common_reg, text)\n",
    "    if match:\n",
    "        job['location'] = match.group(1).strip()\n",
    "    match = re.search(r'DESCRIPTION'+common_reg, text)\n",
    "    if match:\n",
    "        job['description'] = match.group(1).strip()\n",
    "    match = re.search(r'RESPONSIBILITIES'+common_reg, text)\n",
    "    if match:\n",
    "        job['responsibility'] = match.group(1).strip()\n",
    "    match = re.search(r'QUALIFICATIONS'+common_reg, text)\n",
    "    if match:\n",
    "        job['qualification'] = match.group(1).strip()\n",
    "    match = re.search(r'(?:REMUNERATION|REMUNERATION[\\s\\S]*?SALARY)'+common_reg, text)\n",
    "    if match:\n",
    "        job['remuneration'] = match.group(1).strip()\n",
    "    match = re.search(r'DEADLINE'+common_reg, text)\n",
    "    if match:\n",
    "        job['deadline'] = match.group(1).strip()\n",
    "    match = re.search(r'ABOUT COMPANY'+common_reg, text)\n",
    "    if match:\n",
    "        job['about'] = match.group(1).strip()\n",
    "    return job\n",
    "\n",
    "#job = extract_job(q3_df['jobpost'][3135])\n",
    "#print(job['title'])\n",
    "#print(job['duration'])\n",
    "#print(job['location'])\n",
    "#print(job['remuneration'])\n",
    "#print(job['deadline'])\n",
    "\n"
   ]
  },
  {
   "cell_type": "markdown",
   "metadata": {},
   "source": [
    "#### Extraction of job\n",
    "\n",
    "To speed up the development and testing I only used sample out of 74 of 19001. Full sample size can take up few minutes and will be time consuming. To run for full sample size just simply replcace\n",
    "```\n",
    "samples = q3_df.sample(n)\n",
    "```\n",
    "into\n",
    "```\n",
    "samples = q3_df\n",
    "```"
   ]
  },
  {
   "cell_type": "code",
   "execution_count": 7,
   "metadata": {
    "scrolled": true
   },
   "outputs": [
    {
     "name": "stdout",
     "output_type": "stream",
     "text": [
      "0.33917999267578125\n"
     ]
    }
   ],
   "source": [
    "start = time.time()\n",
    "count = 0\n",
    "stats = []\n",
    "# 99% conf. level\n",
    "# +- 15% conf. interval\n",
    "n = 74\n",
    "samples = q3_df.sample(n)\n",
    "samples['e_title'] = np.NaN\n",
    "samples['e_duration'] = np.NaN\n",
    "samples['e_location'] = np.NaN\n",
    "samples['e_description'] = np.NaN\n",
    "samples['e_responsibility'] = np.NaN\n",
    "samples['e_qualification'] = np.NaN\n",
    "samples['e_remuneration'] = np.NaN\n",
    "samples['e_deadline'] = np.NaN\n",
    "samples['e_about'] = np.NaN\n",
    "for i,r in samples.iterrows():\n",
    "    job = extract_job(r['jobpost'])\n",
    "    samples.loc[i,'e_title'] = job['title']\n",
    "    samples.loc[i,'e_duration'] = job['duration']\n",
    "    samples.loc[i,'e_location'] = job['location']\n",
    "    samples.loc[i,'e_description'] = job['description']\n",
    "    samples.loc[i,'e_responsibility'] = job['responsibility']\n",
    "    samples.loc[i,'e_qualification'] = job['qualification']\n",
    "    samples.loc[i,'e_remuneration'] = job['remuneration']\n",
    "    samples.loc[i,'e_deadline'] = job['deadline']\n",
    "    samples.loc[i,'e_about'] = job['about']\n",
    "    \n",
    "    count = count + 1\n",
    "    if count%1000 == 0:\n",
    "        stop = time.time()\n",
    "        elapsed = stop-start\n",
    "        stats.append(elapsed)\n",
    "        print(elapsed)\n",
    "    \n",
    "stop = time.time()\n",
    "elapsed = stop-start\n",
    "stats.append(elapsed)\n",
    "print(elapsed)"
   ]
  },
  {
   "cell_type": "code",
   "execution_count": 8,
   "metadata": {
    "collapsed": true
   },
   "outputs": [],
   "source": [
    "#let's inspect by taking sample to make sure everything is in order\n",
    "#if nothing weird, will assume it's correct\n",
    "#samples[['e_title']].values\n",
    "#samples['e_title'].values\n",
    "#samples['e_duration'].values\n",
    "#samples['e_location'].values\n",
    "#samples['e_description'].values\n",
    "#samples['e_responsibility'].values\n",
    "#samples['e_qualification'].values\n",
    "#samples['e_remuneration'].values\n",
    "#samples['e_deadline']\n",
    "#samples['e_about']"
   ]
  },
  {
   "cell_type": "markdown",
   "metadata": {},
   "source": [
    "#### Identify the company with the most number of job ads in the past 2 years\n",
    "ArmenTel CJSC has the most number of jobs posted from 2014-2015"
   ]
  },
  {
   "cell_type": "code",
   "execution_count": 9,
   "metadata": {
    "collapsed": true
   },
   "outputs": [],
   "source": [
    "#df.loc[:,'parsed_date'] = q3_df['date'].apply(lambda x: dt.datetime.strptime(x,\"%b %d, %Y\"))\n",
    "q3_df['parsed_date'] = np.NaN\n",
    "for i,r in q3_df.iterrows():\n",
    "    try:\n",
    "        q3_df.loc[i,'parsed_date'] = datetime.strptime(r['date'],\"%b %d, %Y\")\n",
    "    except ValueError:\n",
    "        q3_df.loc[i,'parsed_date'] = parser.parse(r['date'])\n",
    "        #job posts from 2004 to 2015\n",
    "        if q3_df.loc[i,'parsed_date'].year == 2017:\n",
    "            q3_df.loc[i,'parsed_date'] = q3_df.loc[i,'parsed_date'].replace(year=2015)\n",
    "        "
   ]
  },
  {
   "cell_type": "code",
   "execution_count": 10,
   "metadata": {},
   "outputs": [
    {
     "data": {
      "text/plain": [
       "Company\n",
       "ArmenTel CJSC                                102\n",
       "Mentor Graphics Development Services CJSC     90\n",
       "World Vision Armenia                          71\n",
       "Career Center NGO                             69\n",
       "Orange Armenia CJSC                           68\n",
       "dtype: int64"
      ]
     },
     "execution_count": 10,
     "metadata": {},
     "output_type": "execute_result"
    }
   ],
   "source": [
    "q3_df[q3_df['parsed_date'].dt.year >= 2014].groupby('Company').size().sort_values(ascending=False).head(5)"
   ]
  },
  {
   "cell_type": "markdown",
   "metadata": {},
   "source": [
    "#### Identify the month with the largest number of job ads over the years\n",
    "March seems to hold the largest number of job posted while start and end of year have the lowest."
   ]
  },
  {
   "cell_type": "code",
   "execution_count": 11,
   "metadata": {},
   "outputs": [
    {
     "data": {
      "text/plain": [
       "parsed_date\n",
       "3     1702\n",
       "2     1665\n",
       "6     1662\n",
       "9     1652\n",
       "10    1637\n",
       "8     1613\n",
       "7     1595\n",
       "5     1580\n",
       "11    1573\n",
       "4     1466\n",
       "12    1432\n",
       "1     1424\n",
       "dtype: int64"
      ]
     },
     "execution_count": 11,
     "metadata": {},
     "output_type": "execute_result"
    }
   ],
   "source": [
    "q3_df.groupby(q3_df['parsed_date'].dt.month).size().sort_values(ascending=False)"
   ]
  },
  {
   "cell_type": "markdown",
   "metadata": {},
   "source": [
    "#### Clean text and generate new text from Job Responsibilities column: \n",
    "\n",
    "The new text shall not contain any stop words, and the plural words shall be converted into\n",
    "singular words.\n",
    "\n"
   ]
  },
  {
   "cell_type": "code",
   "execution_count": 12,
   "metadata": {
    "collapsed": true
   },
   "outputs": [],
   "source": [
    "new_responsibility = samples['e_responsibility'].copy()"
   ]
  },
  {
   "cell_type": "code",
   "execution_count": 13,
   "metadata": {
    "collapsed": true
   },
   "outputs": [],
   "source": [
    "tokenizer = RegexpTokenizer(r'\\w+')\n",
    "p = inflect.engine()\n",
    "for i,r in samples.iterrows():\n",
    "    tokens = tokenizer.tokenize(r['e_responsibility'])\n",
    "    filtered_words = [word for word in tokens if word not in stopwords.words('english')]\n",
    "    new = \"\"\n",
    "    for filtered_word in filtered_words:\n",
    "        temp = p.singular_noun(filtered_word)\n",
    "        if temp != False:\n",
    "            new += temp + \" \"\n",
    "        else:\n",
    "            new += filtered_word + \" \"\n",
    "    new_responsibility[i] = new"
   ]
  },
  {
   "cell_type": "code",
   "execution_count": 14,
   "metadata": {},
   "outputs": [
    {
     "data": {
      "text/plain": [
       "(74,)"
      ]
     },
     "execution_count": 14,
     "metadata": {},
     "output_type": "execute_result"
    }
   ],
   "source": [
    "new_responsibility.shape"
   ]
  },
  {
   "cell_type": "code",
   "execution_count": 15,
   "metadata": {},
   "outputs": [
    {
     "data": {
      "text/plain": [
       "array([ 'Implement proactive searching attraction potential client Maintain relationship potential current customer Prepare credit package analysi Track overall lending proces Review loan banking service application Perform regular monitoring credit portfolio Be involved banking service sale ',\n",
       "       'Research current fashion trend industry person study trend popular Analyze sale pricing datum choose product based research result determine style trend generate sale profit Work merchandising team fashion designer department manager understand product highest marketability bring profit company Evaluate sale report determine item selling checking inventory record place new order necessary Review pricing information different supplier negotiate best price Ensure supplier deliver new stock time Monitor best selling piece store make sure alway available consumer Determine next big hit fashion industry type fashion accessory bag shoe demand upcoming season target market Meet regularly fashion designer manufacturer individual within fashion industry learn latest fashion trend available merchandise Attend trade fair fashion show industry convention meet designer read watch major fashion publication programme stay informed observe trend making selection ',\n",
       "       'Research follow legal regulation RA Inform SEF Management written way change law change concern SEF busines HR practice overall performance Study best legal practice relating credit organisation provide suggestion SEF Management correction improvement financial busines process documentation SEF Provide verbal written expert opinion SEF Management non credit related issue relation e g employment service ensure SEF compliance local law CBA requirement Develop draft legal document required SEF operation including generic employment contract Inform Manager Executive Director change needed Draft necessary new updated form Disseminate appropriate legal knowledge among SEF staff general Management particular raise awarenes legal regulation RA group training session special memo etc Provide control preparation legal document material response inquiry claim local authority including Central Bank Armenia counterpart SEF client mas media Represent protect benefit Organization Court legal body ',\n",
       "       'Program mindset passion deliver state art application demanding customer internal external Be involved customer installation training provide support customer user product highly technical Work growing team strive build recent succes automated application development Have professional interest learn new technology tool ',\n",
       "       'Find identify right outlet within trade channel line Trade Marketing Strategy Achieve target distribution level Company key brand Select recommend execute appropriate communication '], dtype=object)"
      ]
     },
     "execution_count": 15,
     "metadata": {},
     "output_type": "execute_result"
    }
   ],
   "source": [
    "new_responsibility.head(5).values"
   ]
  },
  {
   "cell_type": "markdown",
   "metadata": {},
   "source": [
    "#### Store the results in a new Dataframe/SQL table"
   ]
  },
  {
   "cell_type": "code",
   "execution_count": 16,
   "metadata": {},
   "outputs": [
    {
     "data": {
      "text/plain": [
       "pandas.core.series.Series"
      ]
     },
     "execution_count": 16,
     "metadata": {},
     "output_type": "execute_result"
    }
   ],
   "source": [
    "type(new_responsibility)"
   ]
  },
  {
   "cell_type": "code",
   "execution_count": 17,
   "metadata": {
    "collapsed": true
   },
   "outputs": [],
   "source": [
    "df = new_responsibility.to_frame().reset_index()"
   ]
  },
  {
   "cell_type": "code",
   "execution_count": 18,
   "metadata": {},
   "outputs": [
    {
     "data": {
      "text/plain": [
       "pandas.core.frame.DataFrame"
      ]
     },
     "execution_count": 18,
     "metadata": {},
     "output_type": "execute_result"
    }
   ],
   "source": [
    "type(df)"
   ]
  },
  {
   "cell_type": "code",
   "execution_count": 19,
   "metadata": {},
   "outputs": [
    {
     "data": {
      "text/html": [
       "<div>\n",
       "<style>\n",
       "    .dataframe thead tr:only-child th {\n",
       "        text-align: right;\n",
       "    }\n",
       "\n",
       "    .dataframe thead th {\n",
       "        text-align: left;\n",
       "    }\n",
       "\n",
       "    .dataframe tbody tr th {\n",
       "        vertical-align: top;\n",
       "    }\n",
       "</style>\n",
       "<table border=\"1\" class=\"dataframe\">\n",
       "  <thead>\n",
       "    <tr style=\"text-align: right;\">\n",
       "      <th></th>\n",
       "      <th>index</th>\n",
       "      <th>e_responsibility</th>\n",
       "    </tr>\n",
       "  </thead>\n",
       "  <tbody>\n",
       "    <tr>\n",
       "      <th>0</th>\n",
       "      <td>10111</td>\n",
       "      <td>Implement proactive searching attraction poten...</td>\n",
       "    </tr>\n",
       "    <tr>\n",
       "      <th>1</th>\n",
       "      <td>10645</td>\n",
       "      <td>Research current fashion trend industry person...</td>\n",
       "    </tr>\n",
       "    <tr>\n",
       "      <th>2</th>\n",
       "      <td>13696</td>\n",
       "      <td>Research follow legal regulation RA Inform SEF...</td>\n",
       "    </tr>\n",
       "    <tr>\n",
       "      <th>3</th>\n",
       "      <td>9493</td>\n",
       "      <td>Program mindset passion deliver state art appl...</td>\n",
       "    </tr>\n",
       "    <tr>\n",
       "      <th>4</th>\n",
       "      <td>2995</td>\n",
       "      <td>Find identify right outlet within trade channe...</td>\n",
       "    </tr>\n",
       "  </tbody>\n",
       "</table>\n",
       "</div>"
      ],
      "text/plain": [
       "   index                                   e_responsibility\n",
       "0  10111  Implement proactive searching attraction poten...\n",
       "1  10645  Research current fashion trend industry person...\n",
       "2  13696  Research follow legal regulation RA Inform SEF...\n",
       "3   9493  Program mindset passion deliver state art appl...\n",
       "4   2995  Find identify right outlet within trade channe..."
      ]
     },
     "execution_count": 19,
     "metadata": {},
     "output_type": "execute_result"
    }
   ],
   "source": [
    "df.head(5)"
   ]
  },
  {
   "cell_type": "code",
   "execution_count": null,
   "metadata": {
    "collapsed": true
   },
   "outputs": [],
   "source": []
  }
 ],
 "metadata": {
  "kernelspec": {
   "display_name": "Python 3",
   "language": "python",
   "name": "python3"
  },
  "language_info": {
   "codemirror_mode": {
    "name": "ipython",
    "version": 3
   },
   "file_extension": ".py",
   "mimetype": "text/x-python",
   "name": "python",
   "nbconvert_exporter": "python",
   "pygments_lexer": "ipython3",
   "version": "3.5.3"
  }
 },
 "nbformat": 4,
 "nbformat_minor": 2
}
